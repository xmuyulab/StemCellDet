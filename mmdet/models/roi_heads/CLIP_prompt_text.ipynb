{
 "cells": [
  {
   "cell_type": "code",
   "execution_count": 16,
   "id": "e0d2cf45-5ba2-4725-a9e4-3854e09372d3",
   "metadata": {},
   "outputs": [],
   "source": [
    "import clip\n",
    "import torch\n",
    "from tqdm import tqdm\n",
    "import torch.nn.functional as F"
   ]
  },
  {
   "cell_type": "code",
   "execution_count": 4,
   "id": "477946dd-d45b-4399-a0f7-11db531d8097",
   "metadata": {},
   "outputs": [],
   "source": [
    "ORGAN_DESC = [\n",
    "    'holoclone',\n",
    "    'meroclone',\n",
    "    'paraclone'\n",
    "]"
   ]
  },
  {
   "cell_type": "code",
   "execution_count": 6,
   "id": "4580f12a-163d-4594-b233-1339d358dd92",
   "metadata": {},
   "outputs": [],
   "source": [
    "device = \"cuda\" if torch.cuda.is_available() else \"cpu\""
   ]
  },
  {
   "cell_type": "code",
   "execution_count": 13,
   "id": "426cdcc7-d728-48bb-8550-8204dd22d0ee",
   "metadata": {},
   "outputs": [],
   "source": [
    "clip_model, preprocess = clip.load('ViT-B/32', device)\n",
    "clip_model.eval()\n",
    "for child in clip_model.children():\n",
    "    for param in child.parameters():\n",
    "        param.requires_grad = False"
   ]
  },
  {
   "cell_type": "code",
   "execution_count": 20,
   "id": "f6784d25-d097-491a-85f4-a7be27b90332",
   "metadata": {},
   "outputs": [
    {
     "name": "stderr",
     "output_type": "stream",
     "text": [
      "100%|██████████| 74/74 [00:04<00:00, 16.33it/s]\n"
     ]
    }
   ],
   "source": [
    "text_features_for_classes = []\n",
    "for template in tqdm(template_list):\n",
    "    # print(template)\n",
    "    text_features_for_classes_single = torch.cat([clip_model.encode_text(clip.tokenize(template.format(c)).to(device)).detach() for c in ORGAN_DESC])\n",
    "    text_features_for_classes.append(F.normalize(text_features_for_classes_single,dim=-1))"
   ]
  },
  {
   "cell_type": "code",
   "execution_count": 29,
   "id": "7649e338-6f5c-4a6b-bb21-8b53dcf723a0",
   "metadata": {},
   "outputs": [],
   "source": [
    "text_features_for_classes = torch.stack(text_features_for_classes).mean(dim=0)\n",
    "text_features_for_classes = text_features_for_classes.float()\n",
    "text_features_for_classes = F.normalize(text_features_for_classes, p=2, dim=-1)"
   ]
  },
  {
   "cell_type": "code",
   "execution_count": null,
   "id": "3765995e-37cf-4e2d-a2f0-07c2f253d365",
   "metadata": {},
   "outputs": [],
   "source": []
  },
  {
   "cell_type": "code",
   "execution_count": 31,
   "id": "efea6570-ced0-43f0-87e6-a6556da6ede8",
   "metadata": {},
   "outputs": [],
   "source": [
    "torch.save(text_features_for_classes.detach().cpu(), './organ_text_label_embeddings.pth')"
   ]
  },
  {
   "cell_type": "code",
   "execution_count": null,
   "id": "baa496a9-2b4c-47ff-88be-0cf227356410",
   "metadata": {},
   "outputs": [],
   "source": []
  },
  {
   "cell_type": "code",
   "execution_count": 1,
   "id": "e2a74e02-e2fb-4096-a01d-d82ffeb42649",
   "metadata": {},
   "outputs": [
    {
     "name": "stderr",
     "output_type": "stream",
     "text": [
      "/opt/conda/envs/detpro/lib/python3.8/site-packages/tqdm/auto.py:22: TqdmWarning: IProgress not found. Please update jupyter and ipywidgets. See https://ipywidgets.readthedocs.io/en/stable/user_install.html\n",
      "  from .autonotebook import tqdm as notebook_tqdm\n"
     ]
    }
   ],
   "source": [
    "import torch"
   ]
  },
  {
   "cell_type": "code",
   "execution_count": 9,
   "id": "c7c229ec-7fba-4dad-aea2-6b442c7a0ab8",
   "metadata": {},
   "outputs": [
    {
     "data": {
      "text/plain": [
       "tensor([[ 0.0077, -0.0003, -0.0127,  ..., -0.0159, -0.0106,  0.0071],\n",
       "        [ 0.0224,  0.0342, -0.0035,  ..., -0.0183, -0.0144,  0.0027],\n",
       "        [-0.0021,  0.0288, -0.0033,  ..., -0.0191, -0.0038,  0.0010]])"
      ]
     },
     "execution_count": 9,
     "metadata": {},
     "output_type": "execute_result"
    }
   ],
   "source": [
    "torch.load('../../../data/organ_text_label_embeddings.pth', 'cpu')"
   ]
  },
  {
   "cell_type": "code",
   "execution_count": null,
   "id": "ba603d42-48f9-41d1-9239-3d61d556ebdc",
   "metadata": {},
   "outputs": [],
   "source": []
  },
  {
   "cell_type": "code",
   "execution_count": null,
   "id": "3b57d27b-fa89-4761-8898-ac24a6d178cc",
   "metadata": {},
   "outputs": [],
   "source": []
  }
 ],
 "metadata": {
  "kernelspec": {
   "display_name": "detpro",
   "language": "python",
   "name": "detpro"
  },
  "language_info": {
   "codemirror_mode": {
    "name": "ipython",
    "version": 3
   },
   "file_extension": ".py",
   "mimetype": "text/x-python",
   "name": "python",
   "nbconvert_exporter": "python",
   "pygments_lexer": "ipython3",
   "version": "3.8.0"
  }
 },
 "nbformat": 4,
 "nbformat_minor": 5
}
